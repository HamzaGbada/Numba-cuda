{
  "nbformat": 4,
  "nbformat_minor": 0,
  "metadata": {
    "colab": {
      "name": "Numba-CUDA.ipynb",
      "provenance": [],
      "collapsed_sections": [],
      "authorship_tag": "ABX9TyPEFTxP4kSyc6CFajPRE/1j",
      "include_colab_link": true
    },
    "kernelspec": {
      "name": "python3",
      "display_name": "Python 3"
    },
    "language_info": {
      "name": "python"
    },
    "accelerator": "GPU"
  },
  "cells": [
    {
      "cell_type": "markdown",
      "metadata": {
        "id": "view-in-github",
        "colab_type": "text"
      },
      "source": [
        "<a href=\"https://colab.research.google.com/github/HamzaGbada/Numba-cuda/blob/main/Numba_CUDA.ipynb\" target=\"_parent\"><img src=\"https://colab.research.google.com/assets/colab-badge.svg\" alt=\"Open In Colab\"/></a>"
      ]
    },
    {
      "cell_type": "markdown",
      "metadata": {
        "id": "lrCKIp46FQbi"
      },
      "source": [
        "فَلَو أَنَّ ما أَسعى لِأَدنى مَعيشَةٍ **** كَفاني وَلَم أَطلُب قَليلٌ مِنَ المالِ \n",
        "\n",
        "وَلَكِنَّما أَسعى لِمَجدٍ مُؤَثَّلٍ **** وَقَد يُدرِكُ المَجدَ المُؤَثَّلَ أَمثالي\n",
        "\n",
        "امرؤ القيس"
      ]
    },
    {
      "cell_type": "markdown",
      "metadata": {
        "id": "rmfN0wZv20D-"
      },
      "source": [
        "In this notebook, we will discuss how to do parallel computing on your GPU with CUDA using python!\n",
        "\n",
        "The [NVIDIA® CUDA® Toolkit](https://developer.nvidia.com/cuda-toolkit) provides a development environment for creating high performance GPU-accelerated applications.\n",
        "\n",
        "We will cover these sections:\n",
        "\n",
        "1.   Cuda kernel\n",
        "2.   Memory management\n",
        "3.   Device function\n",
        "4.   Threads and blocks configuration\n",
        "5.   Application in image processing\n",
        "\n"
      ]
    },
    {
      "cell_type": "markdown",
      "metadata": {
        "id": "gogkjj7C73pk"
      },
      "source": [
        "Before we start, let's take a look on what is [Numba](https://numba.pydata.org/).\n",
        "\n",
        "So Numba is a just-in-time compiler that translates python code into machine code using [LLVM](https://llvm.org/), which makes numerical alogrithms execution speed in Python comparable to C or FORTRAN algorithms.\n",
        " \n"
      ]
    },
    {
      "cell_type": "markdown",
      "metadata": {
        "id": "npat4iVPwCrk"
      },
      "source": [
        "# Cuda Kernel"
      ]
    },
    {
      "cell_type": "markdown",
      "metadata": {
        "id": "ZFUlg5qKwSU7"
      },
      "source": [
        "As a first we must check [CUDA programming terminology](https://numba.pydata.org/numba-doc/dev/cuda/overview.html#terminology), let's take a minimal example where we add 2 for each element of a vector"
      ]
    },
    {
      "cell_type": "code",
      "metadata": {
        "id": "r-i9yyAe73U0"
      },
      "source": [
        "from numba import cuda\n",
        "\n",
        "@cuda.jit\n",
        "def add_gpu(x, out):\n",
        "  idx = cuda.grid(1)\n",
        "  out[idx] = x[idx] + 2"
      ],
      "execution_count": 1,
      "outputs": []
    },
    {
      "cell_type": "markdown",
      "metadata": {
        "id": "GcmO9CYGxAOj"
      },
      "source": [
        "Let's discuss this code in some details:\n",
        "\n",
        "When writing CUDA kernel, we must declare the input and the output of the kernel as argment.\n",
        "But, What's `cuda.grid(1)`? \n",
        "\n",
        "`cuda.grid(1)` returns the unique index for the current thread in the whole grid. With N threads, idx will range from 0 to N. We will discuss thread indexing in more details in the section 4.\n",
        "\n"
      ]
    },
    {
      "cell_type": "markdown",
      "metadata": {
        "id": "yBrlwsNT0LCN"
      },
      "source": [
        "Now, we setup our data"
      ]
    },
    {
      "cell_type": "code",
      "metadata": {
        "id": "3Svpk8unvkts"
      },
      "source": [
        "import numpy as np\n",
        "\n",
        "a = np.arange(10,dtype=np.float32)\n",
        "\n",
        "# send input vector to the device\n",
        "d_a = cuda.to_device(a)\n",
        "\n",
        "# create output vector on the device\n",
        "d_out = cuda.device_array_like(d_a)"
      ],
      "execution_count": 2,
      "outputs": []
    },
    {
      "cell_type": "code",
      "metadata": {
        "id": "G2ABv6TE-Fbt"
      },
      "source": [
        "# we decide to use 2 blocks, each containing 5 threads for our vector \n",
        "nbr_block_per_grid = 2\n",
        "nbr_thread_per_block = 5\n",
        "add_gpu[nbr_block_per_grid, nbr_thread_per_block](d_a, d_out)"
      ],
      "execution_count": 3,
      "outputs": []
    },
    {
      "cell_type": "code",
      "metadata": {
        "colab": {
          "base_uri": "https://localhost:8080/"
        },
        "id": "eQtsaEMi_Noa",
        "outputId": "d63417b6-b1ba-4a4a-f87a-ea74b77396be"
      },
      "source": [
        "# now we get our output\n",
        "out = d_out.copy_to_host()\n",
        "out"
      ],
      "execution_count": 4,
      "outputs": [
        {
          "output_type": "execute_result",
          "data": {
            "text/plain": [
              "array([ 2.,  3.,  4.,  5.,  6.,  7.,  8.,  9., 10., 11.], dtype=float32)"
            ]
          },
          "metadata": {
            "tags": []
          },
          "execution_count": 4
        }
      ]
    },
    {
      "cell_type": "markdown",
      "metadata": {
        "id": "OCzUYYRt0LJb"
      },
      "source": [
        "Le Voilà!"
      ]
    },
    {
      "cell_type": "markdown",
      "metadata": {
        "id": "QfTwxr0e_ll6"
      },
      "source": [
        "Let's compare it to a CPU function"
      ]
    },
    {
      "cell_type": "code",
      "metadata": {
        "id": "Tyz8fjNr_kOU"
      },
      "source": [
        "def add_cpu(x):\n",
        "   for i in range(x.size):\n",
        "     x[i]+=2\n",
        "   return x"
      ],
      "execution_count": 5,
      "outputs": []
    },
    {
      "cell_type": "code",
      "metadata": {
        "colab": {
          "base_uri": "https://localhost:8080/"
        },
        "id": "a03ZKZkijdDg",
        "outputId": "06da590e-b614-413c-cb69-f528986abc6e"
      },
      "source": [
        "%timeit add_gpu[nbr_block_per_grid, nbr_thread_per_block](d_a, d_out)"
      ],
      "execution_count": 6,
      "outputs": [
        {
          "output_type": "stream",
          "text": [
            "The slowest run took 8.00 times longer than the fastest. This could mean that an intermediate result is being cached.\n",
            "10000 loops, best of 5: 136 µs per loop\n"
          ],
          "name": "stdout"
        }
      ]
    },
    {
      "cell_type": "code",
      "metadata": {
        "colab": {
          "base_uri": "https://localhost:8080/"
        },
        "id": "H13awt22j09I",
        "outputId": "6a675f23-5c02-4504-d864-b50e1d1491a3"
      },
      "source": [
        "%timeit add_cpu(a)"
      ],
      "execution_count": 7,
      "outputs": [
        {
          "output_type": "stream",
          "text": [
            "10000 loops, best of 5: 24.9 µs per loop\n"
          ],
          "name": "stdout"
        }
      ]
    },
    {
      "cell_type": "markdown",
      "metadata": {
        "id": "GnFvo5Y1kHPc"
      },
      "source": [
        " Wait! What is that! The CPU version is about 6 time faster!\n",
        " \n",
        "Let's understand what is happening together. When running on the GPU, the following steps are performed :\n",
        "\n",
        "1. the input data (the array a ) is transferred to the GPU memory;\n",
        "the calculation of the square root is done in parallel on the GPU for all elements of a\n",
        "2. the resulting array is sent back to the host system.\n",
        "\n",
        "If the calculation is too simple, the time spent in calculation is negligible compared to the data transfer time. \n",
        "\n",
        "\n",
        "Let's see what happens with a more involved calculation."
      ]
    },
    {
      "cell_type": "code",
      "metadata": {
        "colab": {
          "base_uri": "https://localhost:8080/"
        },
        "id": "Wx6dPpdtKGcp",
        "outputId": "4356779c-bed6-4a79-8636-c412fbc0c47f"
      },
      "source": [
        "import numpy as np\n",
        "\n",
        "a = np.arange(32768,dtype=np.float32)\n",
        "\n",
        "# send input vector to the device\n",
        "d_a = cuda.to_device(a)\n",
        "\n",
        "# create output vector on the device\n",
        "d_out = cuda.device_array_like(d_a)\n",
        "\n",
        "# we decide to use 2 blocks, each containing 5 threads for our vector \n",
        "nbr_block_per_grid = 32\n",
        "nbr_thread_per_block = 1024\n",
        "add_gpu[nbr_block_per_grid, nbr_thread_per_block](d_a, d_out)\n",
        "\n",
        "%timeit add_gpu[nbr_block_per_grid, nbr_thread_per_block](d_a, d_out)"
      ],
      "execution_count": 8,
      "outputs": [
        {
          "output_type": "stream",
          "text": [
            "10000 loops, best of 5: 145 µs per loop\n"
          ],
          "name": "stdout"
        }
      ]
    },
    {
      "cell_type": "code",
      "metadata": {
        "colab": {
          "base_uri": "https://localhost:8080/"
        },
        "id": "RJddsn4sKI0t",
        "outputId": "06f7f106-5af1-4e73-c095-b1680b99f9f5"
      },
      "source": [
        "%timeit add_cpu(a)"
      ],
      "execution_count": 9,
      "outputs": [
        {
          "output_type": "stream",
          "text": [
            "10 loops, best of 5: 81.1 ms per loop\n"
          ],
          "name": "stdout"
        }
      ]
    },
    {
      "cell_type": "markdown",
      "metadata": {
        "id": "v8johseuLCXY"
      },
      "source": [
        "Now, it's clear! when we increase the size of our vector, the calculation became more complex and so the GPU version became faster!\n",
        "\n",
        "**Conclusion:** When dealing with simple data and calculation, it's a waste of time to use GPU.\n",
        " "
      ]
    },
    {
      "cell_type": "markdown",
      "metadata": {
        "id": "ty2V7d1Vx43t"
      },
      "source": [
        "# Memory management"
      ]
    },
    {
      "cell_type": "markdown",
      "metadata": {
        "id": "JtJ4epUCzx-4"
      },
      "source": [
        "In the last section, we have seen a little example of memory management without any explication. So the main idea of this section is to learn how to deal with data transfers between ***Host*** and ***Device***."
      ]
    },
    {
      "cell_type": "markdown",
      "metadata": {
        "id": "HoMVVIeW22UO"
      },
      "source": [
        "It is advisable to minimize data transfers to improve performance and this can be done with device arrays. \n",
        "\n",
        "To show this in simple way, we will use an example of normalizing pixel range of an image from [0,255] into [0,10], our calculation will be based on this formula: \n",
        "\n",
        "$j =  10 \\times \\frac{i}{255} \\;\\;\\; \\forall 0 \\leq i\\leq 255 $\n",
        "\n",
        "where i is the intensity of the initiale image and j is the output.\n",
        "\n",
        "After that, we will perfom a Gamma Correction based on this function:\n",
        "\n",
        "$f(V)=V^\\alpha \\: \\: \\: \\; \\alpha>0$\n"
      ]
    },
    {
      "cell_type": "markdown",
      "metadata": {
        "id": "Ev7yHIL5Rgoz"
      },
      "source": [
        "Before we start let's see how they operate in CPU"
      ]
    },
    {
      "cell_type": "code",
      "metadata": {
        "id": "sDuyxztZKhQ0"
      },
      "source": [
        "import numpy as np\n",
        "\n",
        "n = 512\n",
        "\n",
        "# The image will be generated randomly as numpy array\n",
        "image = np.random.randint(256, size=(n, n))\n",
        "\n",
        "def normlize_image(image):\n",
        "  return image*10 / 255\n",
        "\n",
        "def gamma_correction(image, gamma):\n",
        "  image = np.power(image / float(10), gamma)\n",
        "  return image * 10"
      ],
      "execution_count": 1,
      "outputs": []
    },
    {
      "cell_type": "code",
      "metadata": {
        "colab": {
          "base_uri": "https://localhost:8080/"
        },
        "id": "IDZgtbnVS3y6",
        "outputId": "49006eb1-1c36-4dc7-f1f5-be9b7cd5acaa"
      },
      "source": [
        "%%timeit\n",
        "gamma = 0.5\n",
        "\n",
        "norm_img = normlize_image(image)\n",
        "\n",
        "gamma_corr = gamma_correction(image, gamma)"
      ],
      "execution_count": 2,
      "outputs": [
        {
          "output_type": "stream",
          "text": [
            "100 loops, best of 5: 17.3 ms per loop\n"
          ],
          "name": "stdout"
        }
      ]
    },
    {
      "cell_type": "markdown",
      "metadata": {
        "id": "Ii0sdt3wTQuO"
      },
      "source": [
        "Now, we will implement the cuda kernel of the functions above,"
      ]
    },
    {
      "cell_type": "code",
      "metadata": {
        "id": "F3wYH23PTDWQ"
      },
      "source": [
        "from numba import cuda\n",
        "from operator import pow \n",
        "import numpy as np\n",
        "\n",
        "@cuda.jit\n",
        "def normalize_image_gpu(image, out):\n",
        "\n",
        "  i, j = cuda.grid(2)\n",
        "  out[i,j] = ((image[i,j])/(255)) * 10\n",
        "  \n",
        "@cuda.jit\n",
        "def gamma_correction_gpu(image, out, gamma):\n",
        "  i, j = cuda.grid(2)\n",
        "  out[i,j] = pow(image[i,j], gamma) \n",
        "  "
      ],
      "execution_count": 1,
      "outputs": []
    },
    {
      "cell_type": "markdown",
      "metadata": {
        "id": "77wU3RH6IbzI"
      },
      "source": [
        "So what we should do:\n",
        "\n",
        "1. transfer the image to device\n",
        "2. Create an intermediate arrays on device (an empty array with the same features as image array)\n",
        "3.  Create the output array on device ( for gamma correction output) with same shape as the input but with different data type (numpy.float because gamma coefficient is float)"
      ]
    },
    {
      "cell_type": "code",
      "metadata": {
        "id": "IarTgSpoUBho"
      },
      "source": [
        "gamma = 0.5\n",
        "\n",
        "blockdim = (32, 32)\n",
        "griddim = (image.shape[0] // blockdim[0] + 1, image.shape[1] // blockdim[1] + 1)\n",
        "# data transfer to device\n",
        "d_image = cuda.to_device(image)\n",
        "d_normlized = cuda.device_array_like(image)\n",
        "d_gamma = cuda.device_array((image.shape[0], image.shape[1]), dtype=np.float)"
      ],
      "execution_count": 4,
      "outputs": []
    },
    {
      "cell_type": "code",
      "metadata": {
        "colab": {
          "base_uri": "https://localhost:8080/"
        },
        "id": "PBu9pHFg7G79",
        "outputId": "9d254761-8539-40ca-e8a6-4ef055046d68"
      },
      "source": [
        "%%timeit\n",
        "normalize_image_gpu[griddim, blockdim](d_image, d_normlized)\n",
        "gamma_correction_gpu[griddim, blockdim](d_normlized, d_gamma, gamma)"
      ],
      "execution_count": 5,
      "outputs": [
        {
          "output_type": "stream",
          "text": [
            "The slowest run took 918.07 times longer than the fastest. This could mean that an intermediate result is being cached.\n",
            "1 loop, best of 5: 282 µs per loop\n"
          ],
          "name": "stdout"
        }
      ]
    },
    {
      "cell_type": "markdown",
      "metadata": {
        "id": "rTZ9vyd_MSw_"
      },
      "source": [
        "Finally, here is how to retrieve the gamma correction result:"
      ]
    },
    {
      "cell_type": "code",
      "metadata": {
        "colab": {
          "base_uri": "https://localhost:8080/"
        },
        "id": "yevQ4YPULy1i",
        "outputId": "466c76ec-9492-44c4-8619-3944d459e51e"
      },
      "source": [
        "gamma_result = d_gamma.copy_to_host()\n",
        "gamma_result"
      ],
      "execution_count": 6,
      "outputs": [
        {
          "output_type": "execute_result",
          "data": {
            "text/plain": [
              "array([[2.        , 2.        , 1.41421356, ..., 3.        , 2.82842712,\n",
              "        0.        ],\n",
              "       [1.73205081, 2.        , 2.82842712, ..., 2.44948974, 2.        ,\n",
              "        0.        ],\n",
              "       [2.44948974, 2.44948974, 1.73205081, ..., 1.73205081, 3.16227766,\n",
              "        2.23606798],\n",
              "       ...,\n",
              "       [1.41421356, 3.        , 1.73205081, ..., 2.82842712, 1.41421356,\n",
              "        2.82842712],\n",
              "       [1.        , 2.        , 2.44948974, ..., 1.        , 1.41421356,\n",
              "        2.        ],\n",
              "       [1.41421356, 2.64575131, 0.        , ..., 2.        , 2.64575131,\n",
              "        3.        ]])"
            ]
          },
          "metadata": {
            "tags": []
          },
          "execution_count": 6
        }
      ]
    },
    {
      "cell_type": "markdown",
      "metadata": {
        "id": "Y1cyUIBhNMJT"
      },
      "source": [
        "# Device function"
      ]
    },
    {
      "cell_type": "markdown",
      "metadata": {
        "id": "TiDcaWBANaVF"
      },
      "source": [
        "In the examples above we have seen how to write cuda kernel of simple functions, but what if we need to write more complex function and we faced a problem where we need to call other function, what we should do? we have two solution:\n",
        "\n",
        "1. Implement everything in the same kernel and this solution seem to be bad, it made our code a Spaghetti code.\n",
        "2. Create multiple cuda kernel and call them inside other kernel, this [feature](http://developer.download.nvidia.com/GTC/PDF/GTC2012/PresentationPDF/S0338-GTC2012-CUDA-Programming-Model.pdf) is call [*dynamic parallelism*](https://developer.nvidia.com/blog/cuda-dynamic-parallelism-api-principles/), but unfortunately Numba does not support it yet. \n",
        "\n",
        "So, we need another solution, here **Device function** appear!\n",
        "\n",
        "CUDA device functions can only be invoked from within the device (by a kernel or another device function). \n",
        "Unlike a kernel function, a device function can return a value like normal functions.\n"
      ]
    },
    {
      "cell_type": "markdown",
      "metadata": {
        "id": "_wlyQ6a9SlW2"
      },
      "source": [
        "Let's write a device function that's similar to *numpy.max*.\n",
        "\n",
        "Note: *numpy.max* is not supported by Numba check [this](https://numba.pydata.org/numba-doc/dev/reference/numpysupported.html) to see supported NumPy features.\n"
      ]
    },
    {
      "cell_type": "code",
      "metadata": {
        "id": "z-esSKQ7Mm_i"
      },
      "source": [
        "@cuda.jit(device=True)\n",
        "def maximum_device(arr):\n",
        "  max = arr[0,0]\n",
        "  for i in range(arr.shape[0]):\n",
        "    for j in range(arr.shape[1]):\n",
        "      if arr[i,j]>=max:\n",
        "        max = arr[i,j]\n",
        "  return max"
      ],
      "execution_count": 2,
      "outputs": []
    },
    {
      "cell_type": "code",
      "metadata": {
        "colab": {
          "base_uri": "https://localhost:8080/",
          "height": 197
        },
        "id": "VFdFzGTfUFIs",
        "outputId": "14ad2426-f0a2-46ba-817d-c2320dd30d85"
      },
      "source": [
        "import numpy as np\n",
        "\n",
        "n = 512\n",
        "\n",
        "image = np.random.randint(256, size=(n, n))\n",
        "\n",
        "maximum_device(image)"
      ],
      "execution_count": 5,
      "outputs": [
        {
          "output_type": "error",
          "ename": "TypeError",
          "evalue": "ignored",
          "traceback": [
            "\u001b[0;31m---------------------------------------------------------------------------\u001b[0m",
            "\u001b[0;31mTypeError\u001b[0m                                 Traceback (most recent call last)",
            "\u001b[0;32m<ipython-input-5-167862ce5244>\u001b[0m in \u001b[0;36m<module>\u001b[0;34m()\u001b[0m\n\u001b[1;32m      5\u001b[0m \u001b[0mimage\u001b[0m \u001b[0;34m=\u001b[0m \u001b[0mnp\u001b[0m\u001b[0;34m.\u001b[0m\u001b[0mrandom\u001b[0m\u001b[0;34m.\u001b[0m\u001b[0mrandint\u001b[0m\u001b[0;34m(\u001b[0m\u001b[0;36m256\u001b[0m\u001b[0;34m,\u001b[0m \u001b[0msize\u001b[0m\u001b[0;34m=\u001b[0m\u001b[0;34m(\u001b[0m\u001b[0mn\u001b[0m\u001b[0;34m,\u001b[0m \u001b[0mn\u001b[0m\u001b[0;34m)\u001b[0m\u001b[0;34m)\u001b[0m\u001b[0;34m\u001b[0m\u001b[0;34m\u001b[0m\u001b[0m\n\u001b[1;32m      6\u001b[0m \u001b[0;34m\u001b[0m\u001b[0m\n\u001b[0;32m----> 7\u001b[0;31m \u001b[0mmaximum_device\u001b[0m\u001b[0;34m(\u001b[0m\u001b[0mimage\u001b[0m\u001b[0;34m)\u001b[0m\u001b[0;34m\u001b[0m\u001b[0;34m\u001b[0m\u001b[0m\n\u001b[0m",
            "\u001b[0;31mTypeError\u001b[0m: 'DeviceFunctionTemplate' object is not callable"
          ]
        }
      ]
    },
    {
      "cell_type": "markdown",
      "metadata": {
        "id": "UKfTINcyUgZH"
      },
      "source": [
        "Ah yes I forget! Device function should only be declared inside CUDA kernel. We will modify our Gamma Correction Kernel!"
      ]
    },
    {
      "cell_type": "code",
      "metadata": {
        "id": "9yuK3028UVBX"
      },
      "source": [
        "@cuda.jit\n",
        "def gamma_correction_device(image, out, gamma):\n",
        "  i, j = cuda.grid(2)\n",
        "  maximum = maximum_device(image)\n",
        "  out[i,j] = pow(image[i,j], gamma) / maximum\n",
        "\n",
        "gamma = 0.5\n",
        "\n",
        "blockdim = (32, 32)\n",
        "griddim = (image.shape[0] // blockdim[0] + 1, image.shape[1] // blockdim[1] + 1)\n",
        "# data transfer to device\n",
        "d_image = cuda.to_device(image)\n",
        "d_normlized = cuda.device_array_like(image)\n",
        "d_gamma = cuda.device_array((image.shape[0], image.shape[1]), dtype=np.float)"
      ],
      "execution_count": 6,
      "outputs": []
    },
    {
      "cell_type": "code",
      "metadata": {
        "colab": {
          "base_uri": "https://localhost:8080/"
        },
        "id": "rqD9YkxyViUg",
        "outputId": "c94ec282-643b-4fb8-cf4b-e4cc5e1c755f"
      },
      "source": [
        "%%timeit\n",
        "normalize_image_gpu[griddim, blockdim](d_image, d_normlized)\n",
        "gamma_correction_device[griddim, blockdim](d_normlized, d_gamma, gamma)"
      ],
      "execution_count": 7,
      "outputs": [
        {
          "output_type": "stream",
          "text": [
            "The slowest run took 1536.68 times longer than the fastest. This could mean that an intermediate result is being cached.\n",
            "1 loop, best of 5: 289 µs per loop\n"
          ],
          "name": "stdout"
        }
      ]
    },
    {
      "cell_type": "markdown",
      "metadata": {
        "id": "33lPnuTSWPMH"
      },
      "source": [
        "As we can see device function does not affect on the execution time.\n",
        "\n",
        "The device function allows us to avoid code duplication.\n",
        "\n",
        "Obviously, it is a bit artifial to use a device function in such an easy case. But when implementing complex algorithms, these functions can prove very useful."
      ]
    },
    {
      "cell_type": "markdown",
      "metadata": {
        "id": "tTIjv8IQX4z5"
      },
      "source": [
        "# Threads and blocks configuration"
      ]
    },
    {
      "cell_type": "markdown",
      "metadata": {
        "id": "mNhu9A25ayD2"
      },
      "source": [
        "From the begining, we were using `cuda.grid`, but we didn't explain it in details. So in this section, we are going to describe it with the other features of indexing in GPU kernels.\n",
        "\n"
      ]
    },
    {
      "cell_type": "markdown",
      "metadata": {
        "id": "PL-kS4mLbbPP"
      },
      "source": [
        "In CUDA kernel, we didn't see any loop but we perform indexing, a question appear, how we can perform indexing without loop and each element is executed independently. We should know that threads are organized in blocks; blocks are grouped into a grid; and threads are\n",
        "executed in kernel as a grid of blocks of threads; all computing the same function. The threads of a block can be indentified (indexed) using 1Dimension(x), 2Dimensions (x,y) or 3Dim indexes (x,y,z) but in any case xyz <= 1024 for our example (other restrictions apply to x,y,z, see the guide and your device capability).\n",
        "\n",
        "Obviously, if you need more than those 4*768 threads you need more than 4 blocks. Blocks may be also indexed 1D, 2D or 3D. There is a queue of blocks waiting to enter the GPU (because, in our example, the GPU has 4 multiprocessors and only 4 blocks are being executed simultaneously).\n",
        "\n",
        "Here is an image to explain more indexing.\n",
        "![image.png](data:image/png;base64,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)"
      ]
    },
    {
      "cell_type": "markdown",
      "metadata": {
        "id": "sNJFFkTrd4fb"
      },
      "source": [
        "For simplicity we can index using only one block and N thread by using `cuda.threadIdx.x`, but what we should know that there are many restriction.\n",
        "\n",
        "1. The maximum number of threads in the block is limited to 1024. This is the product of whatever your threadblock dimensions are (xyz). For example (32,32,1) creates a block of 1024 threads. (33,32,1) is not legal, since 33*32*1 > 1024.\n",
        "\n",
        "2. The maximum x-dimension is 1024. (1024,1,1) is legal. (1025,1,1) is not legal.\n",
        "\n",
        "3. The maximum y-dimension is 1024. (1,1024,1) is legal. (1,1025,1) is not legal.\n",
        "\n",
        "4. The maximum z-dimension is 64. (1,1,64) is legal. (2,2,64) is also legal. (1,1,65) is not legal.\n",
        "\n",
        "Also, threadblock dimensions of 0 in any position are not legal.\n",
        "\n",
        "Your choice of threadblock dimensions (x,y,z) must satisfy each of the rules 1-4 above. For more check [Nvidia C/C++ basics guide](https://www.nvidia.com/docs/IO/116711/sc11-cuda-c-basics.pdf) "
      ]
    },
    {
      "cell_type": "markdown",
      "metadata": {
        "id": "5cCD1JenfBWF"
      },
      "source": [
        "Let's go back to `cuda.grid`, it return the absolute position of the current thread in the entire grid of blocks. ndim should correspond to the number of dimensions declared when instantiating the kernel. If ndim is 1, a single integer is returned. If ndim is 2 or 3, a tuple of the given number of integers is returned.\n",
        "\n",
        "Computation of the first integer is as follows:\n",
        "\n",
        "```\n",
        "cuda.threadIdx.x + cuda.blockIdx.x * cuda.blockDim.x\n",
        "```\n",
        "\n"
      ]
    },
    {
      "cell_type": "code",
      "metadata": {
        "id": "o4JUBY5KVonL"
      },
      "source": [
        "from numba import cuda\n",
        "import numpy as np\n",
        "\n",
        "@cuda.jit\n",
        "def convolve(result, mask, image):\n",
        "    # expects a 2D grid and 2D blocks,\n",
        "    # a mask with odd numbers of rows and columns, (-1-) \n",
        "    # a grayscale image\n",
        "    \n",
        "    # (-2-) 2D coordinates of the current thread:\n",
        "    i, j = cuda.grid(2) \n",
        "    \n",
        "    # (-3-) if the thread coordinates are outside of the image, we ignore the thread:\n",
        "    image_rows, image_cols = image.shape\n",
        "    if (i >= image_rows) or (j >= image_cols): \n",
        "        return\n",
        "    \n",
        "    # To compute the result at coordinates (i, j), we need to use delta_rows rows of the image \n",
        "    # before and after the i_th row, \n",
        "    # as well as delta_cols columns of the image before and after the j_th column:\n",
        "    delta_rows = mask.shape[0] // 2 \n",
        "    delta_cols = mask.shape[1] // 2\n",
        "    \n",
        "    # The result at coordinates (i, j) is equal to \n",
        "    # sum_{k, l} mask[k, l] * image[i - k + delta_rows, j - l + delta_cols]\n",
        "    # with k and l going through the whole mask array:\n",
        "    s = 0\n",
        "    for k in range(mask.shape[0]):\n",
        "        for l in range(mask.shape[1]):\n",
        "            i_k = i - k + delta_rows\n",
        "            j_l = j - l + delta_cols\n",
        "            # (-4-) Check if (i_k, j_k) coordinates are inside the image: \n",
        "            if (i_k >= 0) and (i_k < image_rows) and (j_l >= 0) and (j_l < image_cols):  \n",
        "                s += mask[k, l] * image[i_k, j_l]\n",
        "    result[i, j] = s"
      ],
      "execution_count": 8,
      "outputs": []
    },
    {
      "cell_type": "markdown",
      "metadata": {
        "id": "mN2fUJ_bfsA_"
      },
      "source": [
        "The code above is the implementation of matrix convolution used in image processing field:![image.png](data:image/png;base64,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)"
      ]
    },
    {
      "cell_type": "markdown",
      "metadata": {
        "id": "J9Vj0HZehCmb"
      },
      "source": [
        "1. To simplify a bit the kernel, we will only use masks with odd number of rows and columns.\n",
        "\n",
        "2. As we have seen, an easy way to get 2D coordinates is to use the convenience function cuda.grid(2).\n",
        "\n",
        "3. We will divide the image in blocks of 32×32 pixels. Note that if we work on an image size that is not a multiple of 32, we have to be careful about the borders. That’s why we check if the thread coordinates are inside the image.\n",
        "\n",
        "4. We check if $(i_k,j_k)$ coordinates are inside the image and when they are not, we just ignore the coordinates. This is equivalent to consider that the value of the image is 0 for coordinates outside of it.\n",
        "\n",
        "Let's test our kernel!"
      ]
    },
    {
      "cell_type": "code",
      "metadata": {
        "colab": {
          "base_uri": "https://localhost:8080/"
        },
        "id": "PmaZ9y4zgzlc",
        "outputId": "8fab50f0-7f53-402c-e32b-1a77b3a43323"
      },
      "source": [
        "import numpy as np\n",
        "\n",
        "n = 512\n",
        "\n",
        "image = np.random.randint(256, size=(n, n))\n",
        "d_image = cuda.to_device(image)\n",
        "\n",
        "d_result = cuda.device_array_like(image)\n",
        "\n",
        "\n",
        "# Create a random mask:\n",
        "mask = np.random.rand(5, 5).astype(np.float32) \n",
        "d_mask = cuda.to_device(mask)\n",
        "\n",
        "blockdim = (32, 32)\n",
        "griddim = (image.shape[0] // blockdim[0] + 1, image.shape[1] // blockdim[1] + 1)\n",
        "\n",
        "# We apply our convolution to our image:\n",
        "%timeit convolve[griddim, blockdim](d_result, d_mask, d_image)"
      ],
      "execution_count": 11,
      "outputs": [
        {
          "output_type": "stream",
          "text": [
            "10000 loops, best of 5: 269 µs per loop\n"
          ],
          "name": "stdout"
        }
      ]
    },
    {
      "cell_type": "code",
      "metadata": {
        "colab": {
          "base_uri": "https://localhost:8080/"
        },
        "id": "GCRJJEKZiw5H",
        "outputId": "530a21a0-b47b-4237-960c-356dd71360eb"
      },
      "source": [
        "import scipy.ndimage\n",
        "%timeit scipy.ndimage.correlate(image, mask, mode='constant')"
      ],
      "execution_count": 12,
      "outputs": [
        {
          "output_type": "stream",
          "text": [
            "100 loops, best of 5: 19 ms per loop\n"
          ],
          "name": "stdout"
        }
      ]
    },
    {
      "cell_type": "markdown",
      "metadata": {
        "id": "YWL_9pZ2jqAI"
      },
      "source": [
        "Great results! we can see that our kernel is 70 time faster than the predefined function of `scipy.ndimage`"
      ]
    },
    {
      "cell_type": "code",
      "metadata": {
        "id": "dOXuV8e7jYs4"
      },
      "source": [
        ""
      ],
      "execution_count": null,
      "outputs": []
    }
  ]
}