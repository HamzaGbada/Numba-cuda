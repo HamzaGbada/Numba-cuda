{
  "nbformat": 4,
  "nbformat_minor": 0,
  "metadata": {
    "colab": {
      "name": "Numba-CUDA.ipynb",
      "provenance": [],
      "authorship_tag": "ABX9TyPy7oYqcxEHs1+ht5RdIsIa",
      "include_colab_link": true
    },
    "kernelspec": {
      "name": "python3",
      "display_name": "Python 3"
    },
    "language_info": {
      "name": "python"
    }
  },
  "cells": [
    {
      "cell_type": "markdown",
      "metadata": {
        "id": "view-in-github",
        "colab_type": "text"
      },
      "source": [
        "<a href=\"https://colab.research.google.com/github/HamzaGbada/Numba-cuda/blob/main/Numba_CUDA.ipynb\" target=\"_parent\"><img src=\"https://colab.research.google.com/assets/colab-badge.svg\" alt=\"Open In Colab\"/></a>"
      ]
    },
    {
      "cell_type": "markdown",
      "metadata": {
        "id": "rmfN0wZv20D-"
      },
      "source": [
        "In this notebook, we will discuss how to do parallel computing on your GPU with CUDA using python!\n",
        "\n",
        "The [NVIDIA® CUDA® Toolkit](https://developer.nvidia.com/cuda-toolkit) provides a development environment for creating high performance GPU-accelerated applications.\n",
        "\n",
        "We will cover these sections:\n",
        "\n",
        "1.   Cuda kernel\n",
        "2.   Memory management\n",
        "3.   Device function\n",
        "4.   Threads and blocks configuration\n",
        "5.   Application in image processing\n",
        "\n"
      ]
    },
    {
      "cell_type": "markdown",
      "metadata": {
        "id": "gogkjj7C73pk"
      },
      "source": [
        "Before we start, let's take a look on what is [Numba](https://numba.pydata.org/).\n",
        "\n",
        "So Numba is a just-in-time compiler that translates python code into machine code using [LLVM](https://llvm.org/), which make numerical alogrithm in Python approach the speeds of C or FORTRAN.\n",
        " \n"
      ]
    },
    {
      "cell_type": "code",
      "metadata": {
        "id": "r-i9yyAe73U0"
      },
      "source": [
        ""
      ],
      "execution_count": null,
      "outputs": []
    },
    {
      "cell_type": "code",
      "metadata": {
        "id": "3Svpk8unvkts"
      },
      "source": [
        ""
      ],
      "execution_count": null,
      "outputs": []
    }
  ]
}